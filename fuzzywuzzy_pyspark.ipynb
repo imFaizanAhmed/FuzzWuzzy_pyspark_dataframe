{
  "nbformat": 4,
  "nbformat_minor": 0,
  "metadata": {
    "colab": {
      "name": "fuzzywuzzy pyspark.ipynb",
      "provenance": [],
      "collapsed_sections": []
    },
    "kernelspec": {
      "name": "python3",
      "display_name": "Python 3"
    },
    "language_info": {
      "name": "python"
    }
  },
  "cells": [
    {
      "cell_type": "code",
      "execution_count": 1,
      "metadata": {
        "colab": {
          "base_uri": "https://localhost:8080/"
        },
        "id": "a3bCeznt6_hn",
        "outputId": "fed77330-6589-4197-9ffc-61ffe7e33a43"
      },
      "outputs": [
        {
          "output_type": "stream",
          "name": "stdout",
          "text": [
            "Collecting pyspark\n",
            "  Downloading pyspark-3.2.1.tar.gz (281.4 MB)\n",
            "\u001b[K     |████████████████████████████████| 281.4 MB 36 kB/s \n",
            "\u001b[?25hCollecting py4j==0.10.9.3\n",
            "  Downloading py4j-0.10.9.3-py2.py3-none-any.whl (198 kB)\n",
            "\u001b[K     |████████████████████████████████| 198 kB 45.8 MB/s \n",
            "\u001b[?25hBuilding wheels for collected packages: pyspark\n",
            "  Building wheel for pyspark (setup.py) ... \u001b[?25l\u001b[?25hdone\n",
            "  Created wheel for pyspark: filename=pyspark-3.2.1-py2.py3-none-any.whl size=281853642 sha256=a3b90a229b8f456deb847aba6964df62ada822038a4d16804de88fed4820f689\n",
            "  Stored in directory: /root/.cache/pip/wheels/9f/f5/07/7cd8017084dce4e93e84e92efd1e1d5334db05f2e83bcef74f\n",
            "Successfully built pyspark\n",
            "Installing collected packages: py4j, pyspark\n",
            "Successfully installed py4j-0.10.9.3 pyspark-3.2.1\n",
            "Collecting python-Levenshtein\n",
            "  Downloading python-Levenshtein-0.12.2.tar.gz (50 kB)\n",
            "\u001b[K     |████████████████████████████████| 50 kB 3.0 MB/s \n",
            "\u001b[?25hRequirement already satisfied: setuptools in /usr/local/lib/python3.7/dist-packages (from python-Levenshtein) (57.4.0)\n",
            "Building wheels for collected packages: python-Levenshtein\n",
            "  Building wheel for python-Levenshtein (setup.py) ... \u001b[?25l\u001b[?25hdone\n",
            "  Created wheel for python-Levenshtein: filename=python_Levenshtein-0.12.2-cp37-cp37m-linux_x86_64.whl size=149859 sha256=5e3e6ed03873741bf06f9ef70c1c94ef347dc1dc70836ffb94a112b406020b4b\n",
            "  Stored in directory: /root/.cache/pip/wheels/05/5f/ca/7c4367734892581bb5ff896f15027a932c551080b2abd3e00d\n",
            "Successfully built python-Levenshtein\n",
            "Installing collected packages: python-Levenshtein\n",
            "Successfully installed python-Levenshtein-0.12.2\n",
            "Collecting fuzzywuzzy\n",
            "  Downloading fuzzywuzzy-0.18.0-py2.py3-none-any.whl (18 kB)\n",
            "Installing collected packages: fuzzywuzzy\n",
            "Successfully installed fuzzywuzzy-0.18.0\n"
          ]
        }
      ],
      "source": [
        "!pip install pyspark\n",
        "!pip install python-Levenshtein\n",
        "!pip install fuzzywuzzy"
      ]
    },
    {
      "cell_type": "code",
      "source": [
        "import pyspark.sql.functions as F\n",
        "\n",
        "from pyspark.sql import SparkSession\n",
        "from fuzzywuzzy import fuzz\n",
        "from pyspark.sql.functions import row_number,lit, when, col\n",
        "from pyspark.sql.window import Window\n",
        "from pyspark.sql import Window as window"
      ],
      "metadata": {
        "id": "JRVuTxyW7K0s"
      },
      "execution_count": 2,
      "outputs": []
    },
    {
      "cell_type": "code",
      "source": [
        "spark = SparkSession.builder \\\n",
        "    .appName(\"SparkByExamples.com\") \\\n",
        "    .getOrCreate()\n",
        "df = spark.read.options( header=True).csv('./M_Data_v2_All.csv')"
      ],
      "metadata": {
        "id": "-yFMVuZ37waT"
      },
      "execution_count": 3,
      "outputs": []
    },
    {
      "cell_type": "code",
      "source": [
        "df.show()"
      ],
      "metadata": {
        "colab": {
          "base_uri": "https://localhost:8080/"
        },
        "id": "zpZrDVKmZBbD",
        "outputId": "eae371ab-6b7b-4693-caa8-c981aa6ba8d6"
      },
      "execution_count": 4,
      "outputs": [
        {
          "output_type": "stream",
          "name": "stdout",
          "text": [
            "+----------+--------------------+---------+--------------------+-------------------+--------------+--------------+\n",
            "|First Name|             Surname|Full Name|               Email|             Mobile|Categorisation|Email_Validity|\n",
            "+----------+--------------------+---------+--------------------+-------------------+--------------+--------------+\n",
            "|      NULL|03rd Project Desi...|     NULL|3rdprojectdesign@...|         7595452048|          Live|             1|\n",
            "|      NULL|1 Kingsdown Parad...|     NULL|mharris@andrewson...|               null|          Live|             1|\n",
            "|      NULL|1 The Paragon (Ma...|     NULL|lydmick@talktalk.net|               null|          Live|             1|\n",
            "|      NULL|12 Marlborough St...|     NULL|jeremy.laird@gmai...|       07817 783521|          Live|             1|\n",
            "|      NULL|14 Sefton Park Ro...|     NULL|scott_blankley@ho...|       07817 117602|        Lapsed|             1|\n",
            "|      NULL|15 Linton Road Ha...|     NULL|1thackerayroad@ti...|       07970 652542|          Live|             1|\n",
            "|      NULL|1-6 Highbanks Res...|     NULL|mharris@andrewson...|               null|          Live|             1|\n",
            "|      NULL|1-6 Northway Cour...|     NULL|mharris@andrewson...|               null|          Live|             1|\n",
            "|      NULL|164 Westbury Road...|     NULL|john.walkabout@go...|       07828 606684|        Lapsed|             1|\n",
            "|      NULL|164 Westbury Road...|     NULL|john.walkabout@go...|       07828 606684|          Live|             1|\n",
            "|      NULL|1st Warsash Sea S...|     NULL|1stwarsashscoutst...|               null|          Live|             1|\n",
            "|      NULL|2 Cotham Lawn Roa...|     NULL|lucyscooper@live....|07971 040713 Mobile|          Live|             1|\n",
            "|      NULL|2 Russell Street ...|     NULL|mharris@andrewson...|               null|          Live|             1|\n",
            "|      NULL|2 Zetland Road Mg...|     NULL|DGearon@blenheims...|               null|        Lapsed|             1|\n",
            "|      NULL|25 Stackpool Road...|     NULL|ruth.sidery@gmail...|       07718 536233|          Live|             1|\n",
            "|      NULL|29 Bedminster Dow...|     NULL|mharris@andrewson...|               null|          Live|             1|\n",
            "|      NULL|  29 Queens Road Mgt|     NULL|mharris@andrewson...|               null|          Live|             1|\n",
            "|      NULL|2df Arts + Media Ltd|     NULL|pwheatley73@gmail...|               null|        Lapsed|             1|\n",
            "|      NULL|3 Elton Road Mana...|     NULL|patrick.mcneill@b...|               null|          Live|             1|\n",
            "|      NULL|3 Russell Street ...|     NULL|mharris@andrewson...|               null|          Live|             1|\n",
            "+----------+--------------------+---------+--------------------+-------------------+--------------+--------------+\n",
            "only showing top 20 rows\n",
            "\n"
          ]
        }
      ]
    },
    {
      "cell_type": "code",
      "source": [
        "w = Window().orderBy(lit('row_num'))\n",
        "df = df.withColumn(\"row_num\", row_number().over(w))"
      ],
      "metadata": {
        "id": "AZxOIlpP92V5"
      },
      "execution_count": 5,
      "outputs": []
    },
    {
      "cell_type": "code",
      "source": [
        "joined = df.crossJoin(df)"
      ],
      "metadata": {
        "id": "I8tjAkDI94Du"
      },
      "execution_count": 6,
      "outputs": []
    },
    {
      "cell_type": "code",
      "source": [
        "def rename_duplicate_columns(dataframe):\n",
        "    columns = dataframe.columns\n",
        "    duplicate_column_indices = list(set([columns.index(col) for col in columns if columns.count(col) == 2]))\n",
        "    for index in duplicate_column_indices:\n",
        "        columns[index] = columns[index]+'_2'\n",
        "    dataframe = dataframe.toDF(*columns)\n",
        "    return dataframe\n",
        "joined = rename_duplicate_columns(joined)"
      ],
      "metadata": {
        "id": "_4Nl24m_98kv"
      },
      "execution_count": 7,
      "outputs": []
    },
    {
      "cell_type": "code",
      "source": [
        "def calculate_fuzz_ratio(\n",
        "   First_Name, Surname, Full_Name, Email, Mobile, Categorisation, Email_Validity, First_Name_2, Surname_2, Full_Name_2, Email_2, Mobile_2, Categorisation_2, Email_Validity_2\n",
        "):\n",
        "  str1 = [First_Name, Surname, Full_Name, Email, Mobile, Categorisation, Email_Validity]\n",
        "  str2 = [First_Name_2, Surname_2, Full_Name_2, Email_2, Mobile_2, Categorisation_2, Email_Validity_2]\n",
        "  return fuzz.ratio(str1, str2)"
      ],
      "metadata": {
        "id": "acpUDjaO-Aq0"
      },
      "execution_count": 8,
      "outputs": []
    },
    {
      "cell_type": "code",
      "source": [
        "sch = ['group_no', 'row_no', 'match_%']\n",
        "joined = joined.rdd.map(lambda x: (x.row_num, x.row_num_2, \n",
        "                                calculate_fuzz_ratio(x['First Name'], x.Surname, x['Full Name'], x.Email, x.Mobile, x.Categorisation, x.Email_Validity, x['First Name_2'], x.Surname_2, x['Full Name_2'], x.Email_2, x.Mobile_2, x.Categorisation_2, x.Email_Validity_2))).toDF(sch)"
      ],
      "metadata": {
        "id": "NGhPOcbf-_na"
      },
      "execution_count": 9,
      "outputs": []
    },
    {
      "cell_type": "code",
      "source": [
        "joined.show()"
      ],
      "metadata": {
        "colab": {
          "base_uri": "https://localhost:8080/"
        },
        "id": "k7ZI7n4Z_GvU",
        "outputId": "d1331de4-5c30-45df-97d1-5e8bd654232c"
      },
      "execution_count": 10,
      "outputs": [
        {
          "output_type": "stream",
          "name": "stdout",
          "text": [
            "+--------+------+-------+\n",
            "|group_no|row_no|match_%|\n",
            "+--------+------+-------+\n",
            "|       1|     1|    100|\n",
            "|       2|     1|     59|\n",
            "|       3|     1|     57|\n",
            "|       4|     1|     64|\n",
            "|       5|     1|     59|\n",
            "|       6|     1|     62|\n",
            "|       7|     1|     56|\n",
            "|       8|     1|     56|\n",
            "|       9|     1|     63|\n",
            "|      10|     1|     65|\n",
            "|      11|     1|     57|\n",
            "|      12|     1|     57|\n",
            "|      13|     1|     58|\n",
            "|      14|     1|     56|\n",
            "|      15|     1|     62|\n",
            "|      16|     1|     56|\n",
            "|      17|     1|     57|\n",
            "|      18|     1|     65|\n",
            "|      19|     1|     58|\n",
            "|      20|     1|     59|\n",
            "+--------+------+-------+\n",
            "only showing top 20 rows\n",
            "\n"
          ]
        }
      ]
    },
    {
      "cell_type": "code",
      "source": [
        "joined = joined.where(joined['match_%'] >= 80)"
      ],
      "metadata": {
        "id": "S6Vc5Un7_yDe"
      },
      "execution_count": 11,
      "outputs": []
    },
    {
      "cell_type": "markdown",
      "source": [
        "## picking the best group number for each row of data"
      ],
      "metadata": {
        "id": "gDaoTtFhAFav"
      }
    },
    {
      "cell_type": "code",
      "source": [
        "w = window.partitionBy('group_no')\n",
        "joined = joined.select('group_no', 'row_no', 'match_%', F.count('group_no').over(w).alias('count')).sort('group_no', 'match_%')"
      ],
      "metadata": {
        "id": "_SZM7NNd_-tJ"
      },
      "execution_count": 12,
      "outputs": []
    },
    {
      "cell_type": "code",
      "source": [
        "joined.show()"
      ],
      "metadata": {
        "colab": {
          "base_uri": "https://localhost:8080/"
        },
        "id": "xn-bYaneAs-Q",
        "outputId": "55c3e610-1a54-4fe1-daf3-f86ffa4c5e51"
      },
      "execution_count": 13,
      "outputs": [
        {
          "output_type": "stream",
          "name": "stdout",
          "text": [
            "+--------+------+-------+-----+\n",
            "|group_no|row_no|match_%|count|\n",
            "+--------+------+-------+-----+\n",
            "|       1|     1|    100|    1|\n",
            "|       2|     8|     81|   11|\n",
            "|       2|     7|     83|   11|\n",
            "|       2|    13|     83|   11|\n",
            "|       2|    20|     83|   11|\n",
            "|       2|    30|     85|   11|\n",
            "|       2|    17|     86|   11|\n",
            "|       2|    28|     86|   11|\n",
            "|       2|    16|     87|   11|\n",
            "|       2|    21|     90|   11|\n",
            "|       2|    38|     91|   11|\n",
            "|       2|     2|    100|   11|\n",
            "|       3|     3|    100|    1|\n",
            "|       4|     4|    100|    1|\n",
            "|       5|     5|    100|    1|\n",
            "|       6|     6|    100|    1|\n",
            "|       7|    16|     80|   11|\n",
            "|       7|     8|     81|   11|\n",
            "|       7|    13|     81|   11|\n",
            "|       7|    20|     81|   11|\n",
            "+--------+------+-------+-----+\n",
            "only showing top 20 rows\n",
            "\n"
          ]
        }
      ]
    },
    {
      "cell_type": "code",
      "source": [
        "windowDept = Window.partitionBy(\"row_no\").orderBy(col(\"count\").desc())\n",
        "joined = joined.withColumn(\"row\",row_number().over(windowDept)) \\\n",
        "  .filter(col(\"row\") == 1).drop(\"row\")"
      ],
      "metadata": {
        "id": "9bHBJrnZAZ6f"
      },
      "execution_count": 14,
      "outputs": []
    },
    {
      "cell_type": "code",
      "source": [
        "joined.show()"
      ],
      "metadata": {
        "colab": {
          "base_uri": "https://localhost:8080/"
        },
        "id": "k8BI3p6rAxxl",
        "outputId": "d15349d8-b4d2-4f90-f56b-91e5d2013265"
      },
      "execution_count": 15,
      "outputs": [
        {
          "output_type": "stream",
          "name": "stdout",
          "text": [
            "+--------+------+-------+-----+\n",
            "|group_no|row_no|match_%|count|\n",
            "+--------+------+-------+-----+\n",
            "|       1|     1|    100|    1|\n",
            "|       2|     2|    100|   11|\n",
            "|       3|     3|    100|    1|\n",
            "|       4|     4|    100|    1|\n",
            "|       5|     5|    100|    1|\n",
            "|       6|     6|    100|    1|\n",
            "|       2|     7|     83|   11|\n",
            "|       2|     8|     81|   11|\n",
            "|       9|     9|    100|    2|\n",
            "|       9|    10|     97|    2|\n",
            "|      11|    11|    100|    1|\n",
            "|      12|    12|    100|    1|\n",
            "|       2|    13|     83|   11|\n",
            "|      14|    14|    100|    1|\n",
            "|      15|    15|    100|    1|\n",
            "|       2|    16|     87|   11|\n",
            "|       2|    17|     86|   11|\n",
            "|      18|    18|    100|    1|\n",
            "|      19|    19|    100|    1|\n",
            "|       2|    20|     83|   11|\n",
            "+--------+------+-------+-----+\n",
            "only showing top 20 rows\n",
            "\n"
          ]
        }
      ]
    },
    {
      "cell_type": "markdown",
      "source": [
        "(optional) removed the match percentage of rows which are only matched with their self."
      ],
      "metadata": {
        "id": "cPiZYfUJBWXt"
      }
    },
    {
      "cell_type": "code",
      "source": [
        "# joined = joined.withColumn('match_%', when(joined['count'] == 1, None).otherwise(joined['match_%']))\n",
        "# joined.show()"
      ],
      "metadata": {
        "id": "z4bosgKjAz3Z"
      },
      "execution_count": 16,
      "outputs": []
    },
    {
      "cell_type": "markdown",
      "source": [
        "# Final step"
      ],
      "metadata": {
        "id": "qhEwajhUBz5P"
      }
    },
    {
      "cell_type": "code",
      "source": [
        "joined = joined.orderBy(col('group_no'), col('row_no'))"
      ],
      "metadata": {
        "id": "_rL53EEFCT2y"
      },
      "execution_count": 17,
      "outputs": []
    },
    {
      "cell_type": "code",
      "source": [
        "df = joined.join(df, joined.row_no == df.row_num, \"inner\")"
      ],
      "metadata": {
        "id": "RtT1klIPBqHZ"
      },
      "execution_count": 18,
      "outputs": []
    },
    {
      "cell_type": "code",
      "source": [
        "df.show()"
      ],
      "metadata": {
        "colab": {
          "base_uri": "https://localhost:8080/"
        },
        "id": "DMA0gGTGDDbZ",
        "outputId": "33a46472-e71c-4d32-b73f-670e4cf8eac4"
      },
      "execution_count": 19,
      "outputs": [
        {
          "output_type": "stream",
          "name": "stdout",
          "text": [
            "+--------+------+-------+-----+----------+--------------------+---------+--------------------+-------------------+--------------+--------------+-------+\n",
            "|group_no|row_no|match_%|count|First Name|             Surname|Full Name|               Email|             Mobile|Categorisation|Email_Validity|row_num|\n",
            "+--------+------+-------+-----+----------+--------------------+---------+--------------------+-------------------+--------------+--------------+-------+\n",
            "|       1|     1|    100|    1|      NULL|03rd Project Desi...|     NULL|3rdprojectdesign@...|         7595452048|          Live|             1|      1|\n",
            "|       2|     2|    100|   11|      NULL|1 Kingsdown Parad...|     NULL|mharris@andrewson...|               null|          Live|             1|      2|\n",
            "|       3|     3|    100|    1|      NULL|1 The Paragon (Ma...|     NULL|lydmick@talktalk.net|               null|          Live|             1|      3|\n",
            "|       4|     4|    100|    1|      NULL|12 Marlborough St...|     NULL|jeremy.laird@gmai...|       07817 783521|          Live|             1|      4|\n",
            "|       5|     5|    100|    1|      NULL|14 Sefton Park Ro...|     NULL|scott_blankley@ho...|       07817 117602|        Lapsed|             1|      5|\n",
            "|       6|     6|    100|    1|      NULL|15 Linton Road Ha...|     NULL|1thackerayroad@ti...|       07970 652542|          Live|             1|      6|\n",
            "|       2|     7|     83|   11|      NULL|1-6 Highbanks Res...|     NULL|mharris@andrewson...|               null|          Live|             1|      7|\n",
            "|       2|     8|     81|   11|      NULL|1-6 Northway Cour...|     NULL|mharris@andrewson...|               null|          Live|             1|      8|\n",
            "|       9|     9|    100|    2|      NULL|164 Westbury Road...|     NULL|john.walkabout@go...|       07828 606684|        Lapsed|             1|      9|\n",
            "|       9|    10|     97|    2|      NULL|164 Westbury Road...|     NULL|john.walkabout@go...|       07828 606684|          Live|             1|     10|\n",
            "|      11|    11|    100|    1|      NULL|1st Warsash Sea S...|     NULL|1stwarsashscoutst...|               null|          Live|             1|     11|\n",
            "|      12|    12|    100|    1|      NULL|2 Cotham Lawn Roa...|     NULL|lucyscooper@live....|07971 040713 Mobile|          Live|             1|     12|\n",
            "|       2|    13|     83|   11|      NULL|2 Russell Street ...|     NULL|mharris@andrewson...|               null|          Live|             1|     13|\n",
            "|      14|    14|    100|    1|      NULL|2 Zetland Road Mg...|     NULL|DGearon@blenheims...|               null|        Lapsed|             1|     14|\n",
            "|      15|    15|    100|    1|      NULL|25 Stackpool Road...|     NULL|ruth.sidery@gmail...|       07718 536233|          Live|             1|     15|\n",
            "|       2|    16|     87|   11|      NULL|29 Bedminster Dow...|     NULL|mharris@andrewson...|               null|          Live|             1|     16|\n",
            "|       2|    17|     86|   11|      NULL|  29 Queens Road Mgt|     NULL|mharris@andrewson...|               null|          Live|             1|     17|\n",
            "|      18|    18|    100|    1|      NULL|2df Arts + Media Ltd|     NULL|pwheatley73@gmail...|               null|        Lapsed|             1|     18|\n",
            "|      19|    19|    100|    1|      NULL|3 Elton Road Mana...|     NULL|patrick.mcneill@b...|               null|          Live|             1|     19|\n",
            "|       2|    20|     83|   11|      NULL|3 Russell Street ...|     NULL|mharris@andrewson...|               null|          Live|             1|     20|\n",
            "+--------+------+-------+-----+----------+--------------------+---------+--------------------+-------------------+--------------+--------------+-------+\n",
            "only showing top 20 rows\n",
            "\n"
          ]
        }
      ]
    },
    {
      "cell_type": "code",
      "source": [
        "df = df.select(F.row_number().over(Window.partitionBy(df['group_no']).orderBy(df['row_no'])).alias(\"row_num\"),\"match_%\", \"First Name\", \"Surname\", \"Full Name\", \"Email\", \"Mobile\", \"Categorisation\", \"Email_Validity\")"
      ],
      "metadata": {
        "id": "ewCcv7dfCwVR"
      },
      "execution_count": 20,
      "outputs": []
    },
    {
      "cell_type": "code",
      "source": [
        "df.show()"
      ],
      "metadata": {
        "id": "-XKIaq_5Dn5c",
        "outputId": "4d2dacee-1c57-4634-c5c7-fb9d88012925",
        "colab": {
          "base_uri": "https://localhost:8080/"
        }
      },
      "execution_count": 21,
      "outputs": [
        {
          "output_type": "stream",
          "name": "stdout",
          "text": [
            "+-------+-------+----------+--------------------+---------+--------------------+-------------------+--------------+--------------+\n",
            "|row_num|match_%|First Name|             Surname|Full Name|               Email|             Mobile|Categorisation|Email_Validity|\n",
            "+-------+-------+----------+--------------------+---------+--------------------+-------------------+--------------+--------------+\n",
            "|      1|    100|      NULL|03rd Project Desi...|     NULL|3rdprojectdesign@...|         7595452048|          Live|             1|\n",
            "|      1|    100|      NULL|1 Kingsdown Parad...|     NULL|mharris@andrewson...|               null|          Live|             1|\n",
            "|      2|     83|      NULL|1-6 Highbanks Res...|     NULL|mharris@andrewson...|               null|          Live|             1|\n",
            "|      3|     81|      NULL|1-6 Northway Cour...|     NULL|mharris@andrewson...|               null|          Live|             1|\n",
            "|      4|     83|      NULL|2 Russell Street ...|     NULL|mharris@andrewson...|               null|          Live|             1|\n",
            "|      5|     87|      NULL|29 Bedminster Dow...|     NULL|mharris@andrewson...|               null|          Live|             1|\n",
            "|      6|     86|      NULL|  29 Queens Road Mgt|     NULL|mharris@andrewson...|               null|          Live|             1|\n",
            "|      7|     83|      NULL|3 Russell Street ...|     NULL|mharris@andrewson...|               null|          Live|             1|\n",
            "|      8|     90|      NULL|30 Meridian Place...|     NULL|mharris@andrewson...|               null|          Live|             1|\n",
            "|      9|     86|      NULL|35 Sister Avenue ...|     NULL|mharris@andrewson...|               null|          Live|             1|\n",
            "|     10|     85|      NULL|4 & 6 All Saints ...|     NULL|mharris@andrewson...|               null|          Live|             1|\n",
            "|     11|     91|      NULL|51 Barton Road Mg...|     NULL|mharris@andrewson...|               null|          Live|             1|\n",
            "|      1|    100|      NULL|1 The Paragon (Ma...|     NULL|lydmick@talktalk.net|               null|          Live|             1|\n",
            "|      1|    100|      NULL|12 Marlborough St...|     NULL|jeremy.laird@gmai...|       07817 783521|          Live|             1|\n",
            "|      1|    100|      NULL|14 Sefton Park Ro...|     NULL|scott_blankley@ho...|       07817 117602|        Lapsed|             1|\n",
            "|      1|    100|      NULL|15 Linton Road Ha...|     NULL|1thackerayroad@ti...|       07970 652542|          Live|             1|\n",
            "|      1|    100|      NULL|164 Westbury Road...|     NULL|john.walkabout@go...|       07828 606684|        Lapsed|             1|\n",
            "|      2|     97|      NULL|164 Westbury Road...|     NULL|john.walkabout@go...|       07828 606684|          Live|             1|\n",
            "|      1|    100|      NULL|1st Warsash Sea S...|     NULL|1stwarsashscoutst...|               null|          Live|             1|\n",
            "|      1|    100|      NULL|2 Cotham Lawn Roa...|     NULL|lucyscooper@live....|07971 040713 Mobile|          Live|             1|\n",
            "+-------+-------+----------+--------------------+---------+--------------------+-------------------+--------------+--------------+\n",
            "only showing top 20 rows\n",
            "\n"
          ]
        }
      ]
    },
    {
      "cell_type": "code",
      "source": [
        ""
      ],
      "metadata": {
        "id": "8OTaEox9Q9gp"
      },
      "execution_count": 21,
      "outputs": []
    }
  ]
}