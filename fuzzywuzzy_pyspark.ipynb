{
  "nbformat": 4,
  "nbformat_minor": 0,
  "metadata": {
    "colab": {
      "name": "fuzzywuzzy pyspark.ipynb",
      "provenance": [],
      "collapsed_sections": []
    },
    "kernelspec": {
      "name": "python3",
      "display_name": "Python 3"
    },
    "language_info": {
      "name": "python"
    }
  },
  "cells": [
    {
      "cell_type": "code",
      "execution_count": 1,
      "metadata": {
        "colab": {
          "base_uri": "https://localhost:8080/"
        },
        "id": "a3bCeznt6_hn",
        "outputId": "fed77330-6589-4197-9ffc-61ffe7e33a43"
      },
      "outputs": [
        {
          "output_type": "stream",
          "name": "stdout",
          "text": [
            "Collecting pyspark\n",
            "  Downloading pyspark-3.2.1.tar.gz (281.4 MB)\n",
            "\u001b[K     |████████████████████████████████| 281.4 MB 36 kB/s \n",
            "\u001b[?25hCollecting py4j==0.10.9.3\n",
            "  Downloading py4j-0.10.9.3-py2.py3-none-any.whl (198 kB)\n",
            "\u001b[K     |████████████████████████████████| 198 kB 45.8 MB/s \n",
            "\u001b[?25hBuilding wheels for collected packages: pyspark\n",
            "  Building wheel for pyspark (setup.py) ... \u001b[?25l\u001b[?25hdone\n",
            "  Created wheel for pyspark: filename=pyspark-3.2.1-py2.py3-none-any.whl size=281853642 sha256=a3b90a229b8f456deb847aba6964df62ada822038a4d16804de88fed4820f689\n",
            "  Stored in directory: /root/.cache/pip/wheels/9f/f5/07/7cd8017084dce4e93e84e92efd1e1d5334db05f2e83bcef74f\n",
            "Successfully built pyspark\n",
            "Installing collected packages: py4j, pyspark\n",
            "Successfully installed py4j-0.10.9.3 pyspark-3.2.1\n",
            "Collecting python-Levenshtein\n",
            "  Downloading python-Levenshtein-0.12.2.tar.gz (50 kB)\n",
            "\u001b[K     |████████████████████████████████| 50 kB 3.0 MB/s \n",
            "\u001b[?25hRequirement already satisfied: setuptools in /usr/local/lib/python3.7/dist-packages (from python-Levenshtein) (57.4.0)\n",
            "Building wheels for collected packages: python-Levenshtein\n",
            "  Building wheel for python-Levenshtein (setup.py) ... \u001b[?25l\u001b[?25hdone\n",
            "  Created wheel for python-Levenshtein: filename=python_Levenshtein-0.12.2-cp37-cp37m-linux_x86_64.whl size=149859 sha256=5e3e6ed03873741bf06f9ef70c1c94ef347dc1dc70836ffb94a112b406020b4b\n",
            "  Stored in directory: /root/.cache/pip/wheels/05/5f/ca/7c4367734892581bb5ff896f15027a932c551080b2abd3e00d\n",
            "Successfully built python-Levenshtein\n",
            "Installing collected packages: python-Levenshtein\n",
            "Successfully installed python-Levenshtein-0.12.2\n",
            "Collecting fuzzywuzzy\n",
            "  Downloading fuzzywuzzy-0.18.0-py2.py3-none-any.whl (18 kB)\n",
            "Installing collected packages: fuzzywuzzy\n",
            "Successfully installed fuzzywuzzy-0.18.0\n"
          ]
        }
      ],
      "source": [
        "!pip install pyspark\n",
        "!pip install python-Levenshtein\n",
        "!pip install fuzzywuzzy"
      ]
    },
    {
      "cell_type": "code",
      "source": [
        "import pyspark.sql.functions as F\n",
        "\n",
        "from pyspark.sql import SparkSession\n",
        "from fuzzywuzzy import fuzz\n",
        "from pyspark.sql.functions import row_number,lit, when, col\n",
        "from pyspark.sql.window import Window\n",
        "from pyspark.sql import Window as window"
      ],
      "metadata": {
        "id": "JRVuTxyW7K0s"
      },
      "execution_count": 2,
      "outputs": []
    },
    {
      "cell_type": "code",
      "source": [
        "spark = SparkSession.builder \\\n",
        "    .appName(\"SparkByExamples.com\") \\\n",
        "    .getOrCreate()\n",
        "df = spark.read.options( header=True).csv('./data.csv')"
      ],
      "metadata": {
        "id": "-yFMVuZ37waT"
      },
      "execution_count": 34,
      "outputs": []
    },
    {
      "cell_type": "code",
      "source": [
        "df.show()"
      ],
      "metadata": {
        "colab": {
          "base_uri": "https://localhost:8080/"
        },
        "id": "zpZrDVKmZBbD",
        "outputId": "4415e23a-ed7d-45d4-8f0a-e2e85039ab07"
      },
      "execution_count": 35,
      "outputs": [
        {
          "output_type": "stream",
          "name": "stdout",
          "text": [
            "+----------+-------+---------+-----------------+--------------+--------------+\n",
            "|First Name|Surname|Full Name|            Email|Categorisation|Email_Validity|\n",
            "+----------+-------+---------+-----------------+--------------+--------------+\n",
            "|       Ali|   NULL|      Ali|             NULL|          Live|             1|\n",
            "|      Umer|   NULL|     Umer|             NULL|          Live|             1|\n",
            "|     Adnan|   NULL|    Adnan|  adnan@gmail.com|          Live|             1|\n",
            "|   Abubakr|   NULL|  Abubakr|             NULL|          Live|             1|\n",
            "|     Baber|   NULL|    Baber|             NULL|        Lapsed|             1|\n",
            "|     Adeel|   NULL|    Adeel|  adeel@gmail.com|          Live|             0|\n",
            "|       Ali|   NULL|      Ali|             NULL|          Live|             1|\n",
            "|    Farhan|   NULL|   Farhan|             NULL|          Live|             1|\n",
            "|   Murtaza|   NULL|  Murtaza|             NULL|        Lapsed|             1|\n",
            "|    Faizan|   NULL|   Faizan|             NULL|          Live|             1|\n",
            "|     Abdul|   NULL|    Abdul|  abdul@gmail.com|          Live|             1|\n",
            "|     Ahmer|   NULL|    Ahmer|             NULL|          Live|             1|\n",
            "|     Haris|   NULL|    Haris|             NULL|          Live|             1|\n",
            "|   Nazakat|   NULL|  Nazakat|nazakat@gmail.com|        Lapsed|             1|\n",
            "|      Taha|   NULL|     Taha|   taha@gmail.com|          Live|             1|\n",
            "|     Saima|   NULL|    Saima|  saima@gmail.com|          Live|             1|\n",
            "|     Kosar|   NULL|    Kosar|  kosar@gmail.com|          Live|             1|\n",
            "|    Adeela|   NULL|   Adeela| adeela@gmail.com|        Lapsed|             1|\n",
            "|     Alina|   NULL|    Alina|             NULL|          Live|             1|\n",
            "|     Sohab|   NULL|    Sohab|             NULL|          Live|             1|\n",
            "+----------+-------+---------+-----------------+--------------+--------------+\n",
            "only showing top 20 rows\n",
            "\n"
          ]
        }
      ]
    },
    {
      "cell_type": "code",
      "source": [
        "w = Window().orderBy(lit('row_num'))\n",
        "df = df.withColumn(\"row_num\", row_number().over(w))"
      ],
      "metadata": {
        "id": "AZxOIlpP92V5"
      },
      "execution_count": 36,
      "outputs": []
    },
    {
      "cell_type": "code",
      "source": [
        "joined = df.crossJoin(df)"
      ],
      "metadata": {
        "id": "I8tjAkDI94Du"
      },
      "execution_count": 37,
      "outputs": []
    },
    {
      "cell_type": "code",
      "source": [
        "def rename_duplicate_columns(dataframe):\n",
        "    columns = dataframe.columns\n",
        "    duplicate_column_indices = list(set([columns.index(col) for col in columns if columns.count(col) == 2]))\n",
        "    for index in duplicate_column_indices:\n",
        "        columns[index] = columns[index]+'_2'\n",
        "    dataframe = dataframe.toDF(*columns)\n",
        "    return dataframe\n",
        "joined = rename_duplicate_columns(joined)"
      ],
      "metadata": {
        "id": "_4Nl24m_98kv"
      },
      "execution_count": 38,
      "outputs": []
    },
    {
      "cell_type": "code",
      "source": [
        "def calculate_fuzz_ratio(\n",
        "   First_Name, Surname, Full_Name, Email, Categorisation, Email_Validity, First_Name_2, Surname_2, Full_Name_2, Email_2, Categorisation_2, Email_Validity_2\n",
        "):\n",
        "  str1 = [First_Name, Surname, Full_Name, Email, Categorisation, Email_Validity]\n",
        "  str2 = [First_Name_2, Surname_2, Full_Name_2, Email_2, Categorisation_2, Email_Validity_2]\n",
        "  return fuzz.ratio(str1, str2)"
      ],
      "metadata": {
        "id": "acpUDjaO-Aq0"
      },
      "execution_count": 41,
      "outputs": []
    },
    {
      "cell_type": "code",
      "source": [
        "sch = ['group_no', 'row_no', 'match_%']\n",
        "joined = joined.rdd.map(lambda x: (x.row_num, x.row_num_2, \n",
        "                                calculate_fuzz_ratio(x['First Name'], x.Surname, x['Full Name'], x.Email, x.Categorisation, x.Email_Validity, x['First Name_2'], x.Surname_2, x['Full Name_2'], x.Email_2, x.Categorisation_2, x.Email_Validity_2))).toDF(sch)"
      ],
      "metadata": {
        "id": "NGhPOcbf-_na"
      },
      "execution_count": 42,
      "outputs": []
    },
    {
      "cell_type": "code",
      "source": [
        "joined.show()"
      ],
      "metadata": {
        "colab": {
          "base_uri": "https://localhost:8080/"
        },
        "id": "k7ZI7n4Z_GvU",
        "outputId": "7123a4b6-0d06-4fad-9959-e26620c286d4"
      },
      "execution_count": 43,
      "outputs": [
        {
          "output_type": "stream",
          "name": "stdout",
          "text": [
            "+--------+------+-------+\n",
            "|group_no|row_no|match_%|\n",
            "+--------+------+-------+\n",
            "|       1|     1|    100|\n",
            "|       2|     1|     84|\n",
            "|       3|     1|     69|\n",
            "|       4|     1|     83|\n",
            "|       5|     1|     76|\n",
            "|       6|     1|     71|\n",
            "|       7|     1|    100|\n",
            "|       8|     1|     80|\n",
            "|       9|     1|     73|\n",
            "|      10|     1|     85|\n",
            "|      11|     1|     73|\n",
            "|      12|     1|     87|\n",
            "|      13|     1|     87|\n",
            "|      14|     1|     57|\n",
            "|      15|     1|     67|\n",
            "|      16|     1|     69|\n",
            "|      17|     1|     65|\n",
            "|      18|     1|     66|\n",
            "|      19|     1|     96|\n",
            "|      20|     1|     82|\n",
            "+--------+------+-------+\n",
            "only showing top 20 rows\n",
            "\n"
          ]
        }
      ]
    },
    {
      "cell_type": "code",
      "source": [
        "joined = joined.where(joined['match_%'] >= 80)"
      ],
      "metadata": {
        "id": "S6Vc5Un7_yDe"
      },
      "execution_count": 44,
      "outputs": []
    },
    {
      "cell_type": "markdown",
      "source": [
        "## picking the best group number for each row of data"
      ],
      "metadata": {
        "id": "gDaoTtFhAFav"
      }
    },
    {
      "cell_type": "code",
      "source": [
        "w = window.partitionBy('group_no')\n",
        "joined = joined.select('group_no', 'row_no', 'match_%', F.count('group_no').over(w).alias('count')).sort('group_no', 'match_%')"
      ],
      "metadata": {
        "id": "_SZM7NNd_-tJ"
      },
      "execution_count": 45,
      "outputs": []
    },
    {
      "cell_type": "code",
      "source": [
        "joined.show()"
      ],
      "metadata": {
        "colab": {
          "base_uri": "https://localhost:8080/"
        },
        "id": "xn-bYaneAs-Q",
        "outputId": "b3acfa98-b432-44a2-b287-b4c47800d4b4"
      },
      "execution_count": 46,
      "outputs": [
        {
          "output_type": "stream",
          "name": "stdout",
          "text": [
            "+--------+------+-------+-----+\n",
            "|group_no|row_no|match_%|count|\n",
            "+--------+------+-------+-----+\n",
            "|       1|     8|     80|   17|\n",
            "|       1|    33|     80|   17|\n",
            "|       1|    20|     82|   17|\n",
            "|       1|     4|     83|   17|\n",
            "|       1|    25|     83|   17|\n",
            "|       1|     2|     84|   17|\n",
            "|       1|    10|     85|   17|\n",
            "|       1|    31|     85|   17|\n",
            "|       1|    34|     87|   17|\n",
            "|       1|    12|     87|   17|\n",
            "|       1|    13|     87|   17|\n",
            "|       1|    23|     87|   17|\n",
            "|       1|    21|     87|   17|\n",
            "|       1|    19|     96|   17|\n",
            "|       1|     1|    100|   17|\n",
            "|       1|     7|    100|   17|\n",
            "|       1|    28|    100|   17|\n",
            "|       2|    19|     80|   18|\n",
            "|       2|    20|     80|   18|\n",
            "|       2|    21|     80|   18|\n",
            "+--------+------+-------+-----+\n",
            "only showing top 20 rows\n",
            "\n"
          ]
        }
      ]
    },
    {
      "cell_type": "code",
      "source": [
        "windowDept = Window.partitionBy(\"row_no\").orderBy(col(\"count\").desc())\n",
        "joined = joined.withColumn(\"row\",row_number().over(windowDept)) \\\n",
        "  .filter(col(\"row\") == 1).drop(\"row\")"
      ],
      "metadata": {
        "id": "9bHBJrnZAZ6f"
      },
      "execution_count": 47,
      "outputs": []
    },
    {
      "cell_type": "code",
      "source": [
        "joined.show()"
      ],
      "metadata": {
        "colab": {
          "base_uri": "https://localhost:8080/"
        },
        "id": "k8BI3p6rAxxl",
        "outputId": "a9bc2293-0e01-41fc-c1d3-10a06bc2ad48"
      },
      "execution_count": 48,
      "outputs": [
        {
          "output_type": "stream",
          "name": "stdout",
          "text": [
            "+--------+------+-------+-----+\n",
            "|group_no|row_no|match_%|count|\n",
            "+--------+------+-------+-----+\n",
            "|       8|     1|     80|   19|\n",
            "|       8|     2|     83|   19|\n",
            "|       3|     3|    100|   11|\n",
            "|       8|     4|     82|   19|\n",
            "|       8|     5|     80|   19|\n",
            "|       3|     6|     83|   11|\n",
            "|       8|     7|     80|   19|\n",
            "|       8|     8|    100|   19|\n",
            "|      10|     9|     80|   15|\n",
            "|       8|    10|     92|   19|\n",
            "|       3|    11|     84|   11|\n",
            "|       8|    12|     81|   19|\n",
            "|       8|    13|     85|   19|\n",
            "|      35|    14|     95|    5|\n",
            "|       3|    15|     83|   11|\n",
            "|       3|    16|     81|   11|\n",
            "|      15|    17|     81|    8|\n",
            "|       3|    18|     83|   11|\n",
            "|       8|    19|     81|   19|\n",
            "|       8|    20|     85|   19|\n",
            "+--------+------+-------+-----+\n",
            "only showing top 20 rows\n",
            "\n"
          ]
        }
      ]
    },
    {
      "cell_type": "markdown",
      "source": [
        "(optional) removed the match percentage of rows which are only matched with their self."
      ],
      "metadata": {
        "id": "cPiZYfUJBWXt"
      }
    },
    {
      "cell_type": "code",
      "source": [
        "# joined = joined.withColumn('match_%', when(joined['count'] == 1, None).otherwise(joined['match_%']))\n",
        "# joined.show()"
      ],
      "metadata": {
        "id": "z4bosgKjAz3Z"
      },
      "execution_count": 49,
      "outputs": []
    },
    {
      "cell_type": "markdown",
      "source": [
        "# Final step"
      ],
      "metadata": {
        "id": "qhEwajhUBz5P"
      }
    },
    {
      "cell_type": "code",
      "source": [
        "joined = joined.orderBy(col('group_no'), col('row_no'))"
      ],
      "metadata": {
        "id": "_rL53EEFCT2y"
      },
      "execution_count": 50,
      "outputs": []
    },
    {
      "cell_type": "code",
      "source": [
        "df = joined.join(df, joined.row_no == df.row_num, \"inner\")"
      ],
      "metadata": {
        "id": "RtT1klIPBqHZ"
      },
      "execution_count": 51,
      "outputs": []
    },
    {
      "cell_type": "code",
      "source": [
        "df.show()"
      ],
      "metadata": {
        "colab": {
          "base_uri": "https://localhost:8080/"
        },
        "id": "DMA0gGTGDDbZ",
        "outputId": "40334759-bec7-4241-e5cb-6e5c07333aaf"
      },
      "execution_count": 52,
      "outputs": [
        {
          "output_type": "stream",
          "name": "stdout",
          "text": [
            "+--------+------+-------+-----+----------+-------+---------+-----------------+--------------+--------------+-------+\n",
            "|group_no|row_no|match_%|count|First Name|Surname|Full Name|            Email|Categorisation|Email_Validity|row_num|\n",
            "+--------+------+-------+-----+----------+-------+---------+-----------------+--------------+--------------+-------+\n",
            "|       8|     1|     80|   19|       Ali|   NULL|      Ali|             NULL|          Live|             1|      1|\n",
            "|       8|     2|     83|   19|      Umer|   NULL|     Umer|             NULL|          Live|             1|      2|\n",
            "|       3|     3|    100|   11|     Adnan|   NULL|    Adnan|  adnan@gmail.com|          Live|             1|      3|\n",
            "|       8|     4|     82|   19|   Abubakr|   NULL|  Abubakr|             NULL|          Live|             1|      4|\n",
            "|       8|     5|     80|   19|     Baber|   NULL|    Baber|             NULL|        Lapsed|             1|      5|\n",
            "|       3|     6|     83|   11|     Adeel|   NULL|    Adeel|  adeel@gmail.com|          Live|             0|      6|\n",
            "|       8|     7|     80|   19|       Ali|   NULL|      Ali|             NULL|          Live|             1|      7|\n",
            "|       8|     8|    100|   19|    Farhan|   NULL|   Farhan|             NULL|          Live|             1|      8|\n",
            "|      10|     9|     80|   15|   Murtaza|   NULL|  Murtaza|             NULL|        Lapsed|             1|      9|\n",
            "|       8|    10|     92|   19|    Faizan|   NULL|   Faizan|             NULL|          Live|             1|     10|\n",
            "|       3|    11|     84|   11|     Abdul|   NULL|    Abdul|  abdul@gmail.com|          Live|             1|     11|\n",
            "|       8|    12|     81|   19|     Ahmer|   NULL|    Ahmer|             NULL|          Live|             1|     12|\n",
            "|       8|    13|     85|   19|     Haris|   NULL|    Haris|             NULL|          Live|             1|     13|\n",
            "|      35|    14|     95|    5|   Nazakat|   NULL|  Nazakat|nazakat@gmail.com|        Lapsed|             1|     14|\n",
            "|       3|    15|     83|   11|      Taha|   NULL|     Taha|   taha@gmail.com|          Live|             1|     15|\n",
            "|       3|    16|     81|   11|     Saima|   NULL|    Saima|  saima@gmail.com|          Live|             1|     16|\n",
            "|      15|    17|     81|    8|     Kosar|   NULL|    Kosar|  kosar@gmail.com|          Live|             1|     17|\n",
            "|       3|    18|     83|   11|    Adeela|   NULL|   Adeela| adeela@gmail.com|        Lapsed|             1|     18|\n",
            "|       8|    19|     81|   19|     Alina|   NULL|    Alina|             NULL|          Live|             1|     19|\n",
            "|       8|    20|     85|   19|     Sohab|   NULL|    Sohab|             NULL|          Live|             1|     20|\n",
            "+--------+------+-------+-----+----------+-------+---------+-----------------+--------------+--------------+-------+\n",
            "only showing top 20 rows\n",
            "\n"
          ]
        }
      ]
    },
    {
      "cell_type": "code",
      "source": [
        "df = df.select(F.row_number().over(Window.partitionBy(df['group_no']).orderBy(df['row_no'])).alias(\"row_num\"),\"match_%\", \"First Name\", \"Surname\", \"Full Name\", \"Email\", \"Categorisation\", \"Email_Validity\")"
      ],
      "metadata": {
        "id": "ewCcv7dfCwVR"
      },
      "execution_count": 53,
      "outputs": []
    },
    {
      "cell_type": "code",
      "source": [
        "df.show()"
      ],
      "metadata": {
        "id": "-XKIaq_5Dn5c",
        "outputId": "0ebaeece-a942-40b5-8295-9629d83ce487",
        "colab": {
          "base_uri": "https://localhost:8080/"
        }
      },
      "execution_count": 54,
      "outputs": [
        {
          "output_type": "stream",
          "name": "stdout",
          "text": [
            "+-------+-------+----------+-------+---------+----------------+--------------+--------------+\n",
            "|row_num|match_%|First Name|Surname|Full Name|           Email|Categorisation|Email_Validity|\n",
            "+-------+-------+----------+-------+---------+----------------+--------------+--------------+\n",
            "|      1|     80|      Noor|   NULL|     Noor|            NULL|        Lapsed|             1|\n",
            "|      2|     87|     Ahmer|   NULL|    Ahmer|            NULL|        Lapsed|             1|\n",
            "|      1|    100|     Adnan|   NULL|    Adnan| adnan@gmail.com|          Live|             1|\n",
            "|      2|     83|     Adeel|   NULL|    Adeel| adeel@gmail.com|          Live|             0|\n",
            "|      3|     84|     Abdul|   NULL|    Abdul| abdul@gmail.com|          Live|             1|\n",
            "|      4|     83|      Taha|   NULL|     Taha|  taha@gmail.com|          Live|             1|\n",
            "|      5|     81|     Saima|   NULL|    Saima| saima@gmail.com|          Live|             1|\n",
            "|      6|     83|    Adeela|   NULL|   Adeela|adeela@gmail.com|        Lapsed|             1|\n",
            "|      7|     84|     Adeel|   NULL|    Adeel| adeel@gmail.com|          Live|             1|\n",
            "|      8|     84|     Adeel|   NULL|    Adeel| adeel@gmail.com|          Live|             1|\n",
            "|      9|     84|     Abdul|   NULL|    Abdul| abdul@gmail.com|          Live|             1|\n",
            "|     10|     81|     Saima|   NULL|    Saima| saima@gmail.com|          Live|             1|\n",
            "|     11|     83|    Adeela|   NULL|   Adeela|adeela@gmail.com|        Lapsed|             1|\n",
            "|      1|     80|       Ali|   NULL|      Ali|            NULL|          Live|             1|\n",
            "|      2|     83|      Umer|   NULL|     Umer|            NULL|          Live|             1|\n",
            "|      3|     82|   Abubakr|   NULL|  Abubakr|            NULL|          Live|             1|\n",
            "|      4|     80|     Baber|   NULL|    Baber|            NULL|        Lapsed|             1|\n",
            "|      5|     80|       Ali|   NULL|      Ali|            NULL|          Live|             1|\n",
            "|      6|    100|    Farhan|   NULL|   Farhan|            NULL|          Live|             1|\n",
            "|      7|     92|    Faizan|   NULL|   Faizan|            NULL|          Live|             1|\n",
            "+-------+-------+----------+-------+---------+----------------+--------------+--------------+\n",
            "only showing top 20 rows\n",
            "\n"
          ]
        }
      ]
    },
    {
      "cell_type": "code",
      "source": [
        ""
      ],
      "metadata": {
        "id": "8OTaEox9Q9gp"
      },
      "execution_count": 29,
      "outputs": []
    }
  ]
}